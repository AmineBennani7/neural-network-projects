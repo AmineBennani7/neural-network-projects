{
 "cells": [
  {
   "cell_type": "code",
   "execution_count": 25,
   "metadata": {},
   "outputs": [],
   "source": [
    "import tensorflow as tf \n",
    "import numpy as np\n",
    "\n"
   ]
  },
  {
   "cell_type": "code",
   "execution_count": 26,
   "metadata": {},
   "outputs": [],
   "source": [
    "# Introducing input data for conversion from Celsius to Fahrenheit\n",
    "celsius = np.array([-40, -10, 0, 8, 15, 22, 38], dtype=float)\n",
    "fahrenheit = np.array([-40, 14, 32, 46, 59, 72, 100], dtype=float)\n"
   ]
  },
  {
   "cell_type": "code",
   "execution_count": 27,
   "metadata": {},
   "outputs": [
    {
     "name": "stderr",
     "output_type": "stream",
     "text": [
      "c:\\Users\\benna\\OneDrive\\Desktop\\Neural_network\\myenv\\Lib\\site-packages\\keras\\src\\layers\\core\\dense.py:87: UserWarning: Do not pass an `input_shape`/`input_dim` argument to a layer. When using Sequential models, prefer using an `Input(shape)` object as the first layer in the model instead.\n",
      "  super().__init__(activity_regularizer=activity_regularizer, **kwargs)\n"
     ]
    }
   ],
   "source": [
    "# Keras: Allows us to create neural networks in a simple way.\n",
    "# We can specify the input and output layers (or just the output layer).\n",
    "\n",
    "capa = tf.keras.layers.Dense(units=1, input_shape=[1])  # DENSE: EACH NEURON IN ONE LAYER IS CONNECTED TO ALL THE NEURONS\n",
    "                                                        # IN THE NEXT LAYER\n",
    "                            # units=1, (OUTPUT LAYER = 1 neuron)\n",
    "                            # input shape: Input = 1 neuron\n",
    "modelo = tf.keras.Sequential([capa])\n"
   ]
  },
  {
   "cell_type": "code",
   "execution_count": 28,
   "metadata": {},
   "outputs": [],
   "source": [
    "modelo.compile(\n",
    "    optimizer=tf.keras.optimizers.Adam(0.1),    # Allows for efficient adjustment of weights and biases\n",
    "                                                # 0.1 --> Learning rate: if the number is small, it adjusts gradually and learns slowly\n",
    "                                                # If the number is large, it adjusts quickly but less precisely\n",
    "                                                # (we can use a smaller number)\n",
    "    loss='mean_squared_error' # A few large errors are worse than many small errors\n",
    ")\n"
   ]
  },
  {
   "cell_type": "code",
   "execution_count": 29,
   "metadata": {},
   "outputs": [
    {
     "name": "stdout",
     "output_type": "stream",
     "text": [
      "Starting training\n",
      "Model trained!\n"
     ]
    }
   ],
   "source": [
    "print(\"Starting training\")\n",
    "historial = modelo.fit(celsius, fahrenheit, epochs=1000, verbose=False)  # Input data, output data, epochs: How many times to iterate\n",
    "print(\"Model trained!\")\n"
   ]
  },
  {
   "cell_type": "code",
   "execution_count": 30,
   "metadata": {},
   "outputs": [
    {
     "data": {
      "text/plain": [
       "[<matplotlib.lines.Line2D at 0x2266cc420f0>]"
      ]
     },
     "execution_count": 30,
     "metadata": {},
     "output_type": "execute_result"
    },
    {
     "data": {
      "image/png": "[encoded data removed]",
      "text/plain": [
       "<Figure size 640x480 with 1 Axes>"
      ]
     },
     "metadata": {},
     "output_type": "display_data"
    }
   ],
   "source": [
    "import matplotlib.pyplot as plt \n",
    "plt.xlabel(\"Epoch\")\n",
    "plt.ylabel(\"Magnitude of Loss\")\n",
    "plt.plot(historial.history[\"loss\"])\n",
    "## AS WE MOVE FORWARD WITH THE EPOCHS, THE ERRORS DECREASE\n"
   ]
  },
  {
   "cell_type": "code",
   "execution_count": 31,
   "metadata": {},
   "outputs": [
    {
     "name": "stdout",
     "output_type": "stream",
     "text": [
      "Prediction\n",
      "\u001b[1m1/1\u001b[0m \u001b[32m━━━━━━━━━━━━━━━━━━━━\u001b[0m\u001b[37m\u001b[0m \u001b[1m0s\u001b[0m 56ms/step\n",
      "[[211.74405]]\n"
     ]
    }
   ],
   "source": [
    "print(\"Prediction\")\n",
    "input_data = np.array([100.0])  # Convert the list to a NumPy array\n",
    "resultado = modelo.predict(input_data)\n",
    "print(resultado)\n"
   ]
  },
  {
   "cell_type": "code",
   "execution_count": 32,
   "metadata": {},
   "outputs": [
    {
     "name": "stdout",
     "output_type": "stream",
     "text": [
      "Internal variables of the model\n",
      "[array([[1.7981347]], dtype=float32), array([31.930584], dtype=float32)]\n"
     ]
    },
    {
     "ename": "",
     "evalue": "",
     "output_type": "error",
     "traceback": [
      "\u001b[1;31mThe Kernel crashed while executing code in the current cell or a previous cell. \n",
      "\u001b[1;31mPlease review the code in the cell(s) to identify a possible cause of the failure. \n",
      "\u001b[1;31mClick <a href='https://aka.ms/vscodeJupyterKernelCrash'>here</a> for more info. \n",
      "\u001b[1;31mView Jupyter <a href='command:jupyter.viewOutput'>log</a> for further details."
     ]
    }
   ],
   "source": [
    "\n",
    "print(\"Internal variables of the model\")\n",
    "print(capa.get_weights())  \n",
    "# Bias == 1.79 and weight of the output neuron is 31.89\n"
   ]
  },
  {
   "cell_type": "code",
   "execution_count": null,
   "metadata": {},
   "outputs": [],
   "source": []
  }
 ],
 "metadata": {
  "kernelspec": {
   "display_name": "myenv",
   "language": "python",
   "name": "python3"
  },
  "language_info": {
   "codemirror_mode": {
    "name": "ipython",
    "version": 3
   },
   "file_extension": ".py",
   "mimetype": "text/x-python",
   "name": "python",
   "nbconvert_exporter": "python",
   "pygments_lexer": "ipython3",
   "version": "3.12.4"
  }
 },
 "nbformat": 4,
 "nbformat_minor": 2
}
